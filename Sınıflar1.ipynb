{
  "nbformat": 4,
  "nbformat_minor": 0,
  "metadata": {
    "colab": {
      "provenance": [],
      "authorship_tag": "ABX9TyOIue/5+oXHGwNGG0wxCJZo",
      "include_colab_link": true
    },
    "kernelspec": {
      "name": "python3",
      "display_name": "Python 3"
    },
    "language_info": {
      "name": "python"
    }
  },
  "cells": [
    {
      "cell_type": "markdown",
      "metadata": {
        "id": "view-in-github",
        "colab_type": "text"
      },
      "source": [
        "<a href=\"https://colab.research.google.com/github/zeynep-tkn/PythonProject/blob/main/S%C4%B1n%C4%B1flar1.ipynb\" target=\"_parent\"><img src=\"https://colab.research.google.com/assets/colab-badge.svg\" alt=\"Open In Colab\"/></a>"
      ]
    },
    {
      "cell_type": "markdown",
      "source": [
        "**Notlar**:\n",
        "**Nesne Yönelimli Programlama**"
      ],
      "metadata": {
        "id": "6uvB8w2cG0PU"
      }
    },
    {
      "cell_type": "markdown",
      "source": [
        "Sınıf Tanımlama\n"
      ],
      "metadata": {
        "id": "LDGNgsVuM21h"
      }
    },
    {
      "cell_type": "code",
      "source": [
        "class Egitmen:\n",
        "  isim =\"Zeynep\"\n",
        "  firma =\"Beykar\"\n",
        "  deneyim_yil= 5"
      ],
      "metadata": {
        "id": "GbEmIdI4M5qI"
      },
      "execution_count": null,
      "outputs": []
    },
    {
      "cell_type": "code",
      "source": [
        "#Nesne olustur\n",
        "egitmen_objem =Egitmen()"
      ],
      "metadata": {
        "id": "S7D6rscLNWra"
      },
      "execution_count": null,
      "outputs": []
    },
    {
      "cell_type": "code",
      "source": [
        "#Nesneden degisken al\n",
        "egitmen_objem.isim"
      ],
      "metadata": {
        "colab": {
          "base_uri": "https://localhost:8080/",
          "height": 35
        },
        "id": "RURc1WzANcdU",
        "outputId": "a9c7a209-60fb-4dcd-c3ee-06ad69c310ad"
      },
      "execution_count": null,
      "outputs": [
        {
          "output_type": "execute_result",
          "data": {
            "text/plain": [
              "'Zeynep'"
            ],
            "application/vnd.google.colaboratory.intrinsic+json": {
              "type": "string"
            }
          },
          "metadata": {},
          "execution_count": 8
        }
      ]
    },
    {
      "cell_type": "code",
      "source": [
        "egitmen_objem.firma"
      ],
      "metadata": {
        "colab": {
          "base_uri": "https://localhost:8080/",
          "height": 35
        },
        "id": "hUMpmT8DN--_",
        "outputId": "a8c1ab63-91da-4b2a-b01e-5baa6cf64e1e"
      },
      "execution_count": null,
      "outputs": [
        {
          "output_type": "execute_result",
          "data": {
            "text/plain": [
              "'Beykar'"
            ],
            "application/vnd.google.colaboratory.intrinsic+json": {
              "type": "string"
            }
          },
          "metadata": {},
          "execution_count": 9
        }
      ]
    },
    {
      "cell_type": "code",
      "source": [
        "egitmen_objem.deneyim_yil+= 1"
      ],
      "metadata": {
        "id": "Z3lz2RZNODzp"
      },
      "execution_count": null,
      "outputs": []
    },
    {
      "cell_type": "code",
      "source": [
        "egitmen_objem.deneyim_yil"
      ],
      "metadata": {
        "colab": {
          "base_uri": "https://localhost:8080/"
        },
        "id": "CcJ29HUpOfD5",
        "outputId": "9e06dc65-81d2-46a9-ebba-30e0e70ac7ba"
      },
      "execution_count": null,
      "outputs": [
        {
          "output_type": "execute_result",
          "data": {
            "text/plain": [
              "9"
            ]
          },
          "metadata": {},
          "execution_count": 16
        }
      ]
    },
    {
      "cell_type": "code",
      "source": [
        "#Bir sınıftan birden fazla nesne üretme\n",
        "class Ogrenci:\n",
        "  tur=\"İnsan\"\n",
        "  def __init__(self,isim,yas):\n",
        "    print(\"Class Constructor'ı çağırıldı\")\n",
        "    self.objenin_ismi=isim\n",
        "    self.objenin_yasi=yas"
      ],
      "metadata": {
        "id": "YctNywKCO6PH"
      },
      "execution_count": null,
      "outputs": []
    },
    {
      "cell_type": "code",
      "source": [
        "#Bir çğrenci nesne oluşturma\n",
        "ogrenci_objesi_1=Ogrenci(\"Zey\",20)"
      ],
      "metadata": {
        "colab": {
          "base_uri": "https://localhost:8080/"
        },
        "id": "e2lQ0JtnUkYT",
        "outputId": "eb783b31-ef32-40f2-f5d8-f13b3b42dd6c"
      },
      "execution_count": null,
      "outputs": [
        {
          "output_type": "stream",
          "name": "stdout",
          "text": [
            "Class Constructor'ı çağırıldı\n"
          ]
        }
      ]
    },
    {
      "cell_type": "code",
      "source": [
        "ogrenci_objesi_1"
      ],
      "metadata": {
        "colab": {
          "base_uri": "https://localhost:8080/"
        },
        "id": "XoCxo9_vU8I-",
        "outputId": "290a1ef5-c03b-42fb-b58f-b7d4251759e2"
      },
      "execution_count": null,
      "outputs": [
        {
          "output_type": "execute_result",
          "data": {
            "text/plain": [
              "<__main__.Ogrenci at 0x7c1dc41bcee0>"
            ]
          },
          "metadata": {},
          "execution_count": 20
        }
      ]
    },
    {
      "cell_type": "code",
      "source": [
        "ogrenci_objesi_2=Ogrenci(\"Tekin\",21)"
      ],
      "metadata": {
        "colab": {
          "base_uri": "https://localhost:8080/"
        },
        "id": "ABYPglzHVFsa",
        "outputId": "a7c7e00d-0ae0-4166-9d02-795753366638"
      },
      "execution_count": null,
      "outputs": [
        {
          "output_type": "stream",
          "name": "stdout",
          "text": [
            "Class Constructor'ı çağırıldı\n"
          ]
        }
      ]
    },
    {
      "cell_type": "code",
      "source": [
        "ogrenci_objesi_2"
      ],
      "metadata": {
        "colab": {
          "base_uri": "https://localhost:8080/"
        },
        "id": "MqfVi5wlVQUB",
        "outputId": "0d4bf399-ffd7-4ed9-a865-006399c2af97"
      },
      "execution_count": null,
      "outputs": [
        {
          "output_type": "execute_result",
          "data": {
            "text/plain": [
              "<__main__.Ogrenci at 0x7c1dc41bd390>"
            ]
          },
          "metadata": {},
          "execution_count": 22
        }
      ]
    },
    {
      "cell_type": "code",
      "source": [
        "ogrenci_objesi_1.objenin_ismi"
      ],
      "metadata": {
        "colab": {
          "base_uri": "https://localhost:8080/",
          "height": 35
        },
        "id": "ASfyD4WpVUDd",
        "outputId": "1bbfd56a-af93-4a16-e0d2-b7177b614e9c"
      },
      "execution_count": null,
      "outputs": [
        {
          "output_type": "execute_result",
          "data": {
            "text/plain": [
              "'Zey'"
            ],
            "application/vnd.google.colaboratory.intrinsic+json": {
              "type": "string"
            }
          },
          "metadata": {},
          "execution_count": 23
        }
      ]
    },
    {
      "cell_type": "code",
      "source": [
        "ogrenci_objesi_1.tur"
      ],
      "metadata": {
        "colab": {
          "base_uri": "https://localhost:8080/",
          "height": 35
        },
        "id": "mv-e-zJ0Ve7H",
        "outputId": "2ca00520-05d4-4a90-9b12-f8469807f6e2"
      },
      "execution_count": null,
      "outputs": [
        {
          "output_type": "execute_result",
          "data": {
            "text/plain": [
              "'İnsan'"
            ],
            "application/vnd.google.colaboratory.intrinsic+json": {
              "type": "string"
            }
          },
          "metadata": {},
          "execution_count": 25
        }
      ]
    },
    {
      "cell_type": "code",
      "source": [
        "ogrenci_objesi_1==ogrenci_objesi_2"
      ],
      "metadata": {
        "colab": {
          "base_uri": "https://localhost:8080/"
        },
        "id": "ln9Mo6zrVnOa",
        "outputId": "c74c7b59-b463-417a-da55-5b6834b808d7"
      },
      "execution_count": null,
      "outputs": [
        {
          "output_type": "execute_result",
          "data": {
            "text/plain": [
              "False"
            ]
          },
          "metadata": {},
          "execution_count": 26
        }
      ]
    },
    {
      "cell_type": "code",
      "source": [
        "class Bebek:\n",
        "  def __init__(self,isim,dogum_tarihi):\n",
        "    self.isim =isim\n",
        "    self.dogum_tarihi=dogum_tarihi\n",
        "    self.dis_sayisi=0\n",
        "\n",
        "  def konus(self):\n",
        "      print(\"Agu\")\n",
        "\n",
        "  def agla(self):\n",
        "      print(\"Ingaaa\")\n",
        "\n",
        "  def dis_cikar(self):\n",
        "      self.dis_sayisi+=1\n"
      ],
      "metadata": {
        "id": "HTPOMrcMVtBb"
      },
      "execution_count": null,
      "outputs": []
    },
    {
      "cell_type": "code",
      "source": [
        "bebegim= Bebek(\"Beren\",\"05.04.2018\")"
      ],
      "metadata": {
        "id": "BwxgbWFCWf5i"
      },
      "execution_count": null,
      "outputs": []
    },
    {
      "cell_type": "code",
      "source": [
        "bebegim.konus()"
      ],
      "metadata": {
        "colab": {
          "base_uri": "https://localhost:8080/"
        },
        "id": "0eG_7j3OW2fJ",
        "outputId": "05f8aa7a-be94-4739-f04a-a589248c99f5"
      },
      "execution_count": null,
      "outputs": [
        {
          "output_type": "stream",
          "name": "stdout",
          "text": [
            "Agu\n"
          ]
        }
      ]
    },
    {
      "cell_type": "code",
      "source": [
        "class Daire:\n",
        "  def __init__(self,yari_cap):\n",
        "    self.yari_cap=yari_cap\n",
        "    self.alan=self._alan_hesapla()\n",
        "    self.cevre=self._cevre_hesapla()\n",
        "\n",
        "#_ sayesinde fonksiyonu dışarıya kapatmış oluyoruz\n",
        "  def _alan_hesapla(self):\n",
        "    return 3.14*self.yari_cap**2\n",
        "\n",
        "  def _cevre_hesapla(self):\n",
        "    return 2*3.14*self.yari_cap\n",
        "\n",
        "  def tanimla(self):\n",
        "    print(f\"Yarı çap={self.yari_cap}\\nAlan={self.alan}\\nÇevre={self.cevre}\")"
      ],
      "metadata": {
        "id": "PI3z9Ru-Xd80"
      },
      "execution_count": null,
      "outputs": []
    },
    {
      "cell_type": "code",
      "source": [
        "daire=Daire(10)"
      ],
      "metadata": {
        "id": "g4cGfVEWZhY1"
      },
      "execution_count": null,
      "outputs": []
    },
    {
      "cell_type": "code",
      "source": [
        "daire.tanimla()"
      ],
      "metadata": {
        "colab": {
          "base_uri": "https://localhost:8080/"
        },
        "id": "GH5PaCEgaBNH",
        "outputId": "40fc7151-6613-4c4d-ea8a-b23e2de9b82a"
      },
      "execution_count": null,
      "outputs": [
        {
          "output_type": "stream",
          "name": "stdout",
          "text": [
            "Yarı çap=10\n",
            "Alan=314.0\n",
            "Çevre=62.800000000000004\n"
          ]
        }
      ]
    },
    {
      "cell_type": "code",
      "source": [],
      "metadata": {
        "id": "rMZ6QBwIaNUn"
      },
      "execution_count": null,
      "outputs": []
    }
  ]
}