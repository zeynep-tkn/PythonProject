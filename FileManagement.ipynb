{
  "nbformat": 4,
  "nbformat_minor": 0,
  "metadata": {
    "colab": {
      "provenance": [],
      "toc_visible": true,
      "authorship_tag": "ABX9TyPSqWu5oGiFn7PYiqVYhzJi",
      "include_colab_link": true
    },
    "kernelspec": {
      "name": "python3",
      "display_name": "Python 3"
    },
    "language_info": {
      "name": "python"
    }
  },
  "cells": [
    {
      "cell_type": "markdown",
      "metadata": {
        "id": "view-in-github",
        "colab_type": "text"
      },
      "source": [
        "<a href=\"https://colab.research.google.com/github/zeynep-tkn/PythonProject/blob/main/FileManagement.ipynb\" target=\"_parent\"><img src=\"https://colab.research.google.com/assets/colab-badge.svg\" alt=\"Open In Colab\"/></a>"
      ]
    },
    {
      "cell_type": "markdown",
      "source": [
        "# Error Handling"
      ],
      "metadata": {
        "id": "NqR8XCVgvB3m"
      }
    },
    {
      "cell_type": "code",
      "execution_count": null,
      "metadata": {
        "id": "dhLQ6-bnsh_S",
        "colab": {
          "base_uri": "https://localhost:8080/"
        },
        "outputId": "2290eb1e-6cce-4b7b-a9dd-98ff9a5ec97b"
      },
      "outputs": [
        {
          "output_type": "stream",
          "name": "stdout",
          "text": [
            "Enter a number: 2\n",
            "Thank you for entering the number:2\n"
          ]
        }
      ],
      "source": [
        "try:\n",
        "  number =int(input(\"Enter a number: \"))\n",
        "except ValueError:\n",
        "  print(\"That's not an integer!\")\n",
        "else:\n",
        "  print(f\"Thank you for entering the number:{number}\")"
      ]
    },
    {
      "cell_type": "markdown",
      "source": [
        "# File Management"
      ],
      "metadata": {
        "id": "iijnhGt_vISJ"
      }
    },
    {
      "cell_type": "markdown",
      "source": [
        "File Management (Dosya Yönetimi):\n",
        "Bilgisayar sistemlerinde dosyalarka çalışmayı içerir. Dosya oluşturma, açma, okuma, yazma ve kapatma gibi görevler içerir.\n"
      ],
      "metadata": {
        "id": "BPYO5r3IEYse"
      }
    },
    {
      "cell_type": "code",
      "source": [
        "with open('test.txt', 'r') as file:\n",
        "  content=file.read()\n",
        "  print(content)\n"
      ],
      "metadata": {
        "colab": {
          "base_uri": "https://localhost:8080/",
          "height": 176
        },
        "collapsed": true,
        "id": "ndyi_grpEjUa",
        "outputId": "e9f3995c-dfdc-47f4-af72-21ecd2969b1e"
      },
      "execution_count": null,
      "outputs": [
        {
          "output_type": "error",
          "ename": "FileNotFoundError",
          "evalue": "[Errno 2] No such file or directory: 'test.txt'",
          "traceback": [
            "\u001b[0;31m---------------------------------------------------------------------------\u001b[0m",
            "\u001b[0;31mFileNotFoundError\u001b[0m                         Traceback (most recent call last)",
            "\u001b[0;32m<ipython-input-5-4728d0caa408>\u001b[0m in \u001b[0;36m<cell line: 1>\u001b[0;34m()\u001b[0m\n\u001b[0;32m----> 1\u001b[0;31m \u001b[0;32mwith\u001b[0m \u001b[0mopen\u001b[0m\u001b[0;34m(\u001b[0m\u001b[0;34m'test.txt'\u001b[0m\u001b[0;34m,\u001b[0m \u001b[0;34m'r'\u001b[0m\u001b[0;34m)\u001b[0m \u001b[0;32mas\u001b[0m \u001b[0mfile\u001b[0m\u001b[0;34m:\u001b[0m\u001b[0;34m\u001b[0m\u001b[0;34m\u001b[0m\u001b[0m\n\u001b[0m\u001b[1;32m      2\u001b[0m   \u001b[0mcontent\u001b[0m\u001b[0;34m=\u001b[0m\u001b[0mfile\u001b[0m\u001b[0;34m.\u001b[0m\u001b[0mread\u001b[0m\u001b[0;34m(\u001b[0m\u001b[0;34m)\u001b[0m\u001b[0;34m\u001b[0m\u001b[0;34m\u001b[0m\u001b[0m\n\u001b[1;32m      3\u001b[0m   \u001b[0mprint\u001b[0m\u001b[0;34m(\u001b[0m\u001b[0mcontent\u001b[0m\u001b[0;34m)\u001b[0m\u001b[0;34m\u001b[0m\u001b[0;34m\u001b[0m\u001b[0m\n",
            "\u001b[0;31mFileNotFoundError\u001b[0m: [Errno 2] No such file or directory: 'test.txt'"
          ]
        }
      ]
    },
    {
      "cell_type": "code",
      "source": [
        "import random\n",
        "import csv\n",
        "import random\n",
        "\n",
        "#Rastgele listeleri oluştur(örneğin, 10 listeyi 5 elemanşlı olarak oluşturuyoruz)\n",
        "random_lists = [[random.randint(1, 100) for _ in range(5)] for _ in range(10)]\n",
        "\n",
        "#CSV dosyasına yazma işlemi\n",
        "with open('random_lists.csv',mode='w', newline='') as file:\n",
        "   writer = csv.writer(file)\n",
        "\n",
        "#Her bir rastgele listeyi CSV dosyasına yaz\n",
        "   for rand_list in random_lists:\n",
        "      writer.writerow(random_lists)\n",
        "\n",
        "print(\"CSV dosyası oluşturuldu: random_lists.csv\")\n"
      ],
      "metadata": {
        "colab": {
          "base_uri": "https://localhost:8080/"
        },
        "id": "BaZVwqbJFmAc",
        "outputId": "55352f76-5dbe-403c-e487-58542881be04"
      },
      "execution_count": null,
      "outputs": [
        {
          "output_type": "stream",
          "name": "stdout",
          "text": [
            "CSV dosyası oluşturuldu: random_lists.csv\n"
          ]
        }
      ]
    },
    {
      "cell_type": "markdown",
      "source": [
        "# Iterator and Generator"
      ],
      "metadata": {
        "id": "XHc-HdbpvO_y"
      }
    },
    {
      "cell_type": "markdown",
      "source": [
        "Iterator and Generator:\n",
        "İteratörler ve üreteçler, veri dizileri ile çalışmak için Python'daki araçlardır. Bir iteratör, bir koleksiyonun elemanlarını döngüyle(iterasyonla) geçirmenizi sağlayan bir nesnedir, üreteç ise değerleri tembel(lazy) bir şekilde üreten özel bir iteratördür. Büyük veri kümesini etkili bir şekilde işlemek veya özel veri dizileri oluşturmak için kullanılır"
      ],
      "metadata": {
        "id": "qun1E89xKPph"
      }
    },
    {
      "cell_type": "code",
      "source": [
        "import numpy as np\n",
        "np.random.randint(0,10,1)[0]"
      ],
      "metadata": {
        "colab": {
          "base_uri": "https://localhost:8080/"
        },
        "id": "7WScJiw3Hp2s",
        "outputId": "102db0a7-6268-49b5-a30d-0c2aff8c4d0a"
      },
      "execution_count": null,
      "outputs": [
        {
          "output_type": "execute_result",
          "data": {
            "text/plain": [
              "8"
            ]
          },
          "metadata": {},
          "execution_count": 12
        }
      ]
    },
    {
      "cell_type": "code",
      "source": [
        "#Example 1: Iterator\n",
        "import numpy as np\n",
        "class RandomClass:\n",
        "    def __init__(self):\n",
        "      self.id =np.random.randint(0,10,1)[0]\n",
        "my_list=[RandomClass(),RandomClass(),RandomClass(),RandomClass()]\n",
        "my_iter=iter(my_list)\n",
        "o=next(my_iter)\n",
        "\n",
        "print(next(my_iter))\n",
        "print(next(my_iter))"
      ],
      "metadata": {
        "colab": {
          "base_uri": "https://localhost:8080/"
        },
        "id": "siPqfcQULKL5",
        "outputId": "7b097c15-2b92-4d01-8258-acd35389109d"
      },
      "execution_count": null,
      "outputs": [
        {
          "output_type": "stream",
          "name": "stdout",
          "text": [
            "<__main__.RandomClass object at 0x784f3444c4c0>\n",
            "<__main__.RandomClass object at 0x784f3444cb20>\n"
          ]
        }
      ]
    },
    {
      "cell_type": "code",
      "source": [
        "#Example 2: Generator Function\n",
        "def countdown(num):\n",
        "  print('Staring')\n",
        "  while num>0:\n",
        "    yield num\n",
        "    num-=1\n",
        "\n",
        "for value in countdown(5):\n",
        "  print(value)"
      ],
      "metadata": {
        "colab": {
          "base_uri": "https://localhost:8080/"
        },
        "id": "GUHUCf6tbce8",
        "outputId": "68ab19bb-d9b5-47ff-8f04-9cfb1fecbf6b"
      },
      "execution_count": null,
      "outputs": [
        {
          "output_type": "stream",
          "name": "stdout",
          "text": [
            "Staring\n",
            "5\n",
            "4\n",
            "3\n",
            "2\n",
            "1\n"
          ]
        }
      ]
    },
    {
      "cell_type": "code",
      "source": [
        "#Example 3: Generate Expression\n",
        "squares = (x*x for x in range(10))\n",
        "print(\"0'ın karesi:\",next(squares)) # 0\n",
        "print(\"1'ın karesi:\",next(squares)) # 1\n",
        "print(\"2'ın karesi:\",next(squares)) # 4\n",
        "print(\"3'ın karesi:\",next(squares)) # 9\n"
      ],
      "metadata": {
        "colab": {
          "base_uri": "https://localhost:8080/"
        },
        "id": "qrw9fGkkcqNh",
        "outputId": "24dbd0eb-9038-47e7-8b89-3c1c041412d7"
      },
      "execution_count": null,
      "outputs": [
        {
          "output_type": "stream",
          "name": "stdout",
          "text": [
            "0'ın karesi: 0\n",
            "1'ın karesi: 1\n",
            "2'ın karesi: 4\n",
            "3'ın karesi: 9\n"
          ]
        }
      ]
    },
    {
      "cell_type": "code",
      "source": [
        "class A:\n",
        "    def __init__():\n",
        "        pass\n",
        "    def __next__():\n",
        "        pass\n"
      ],
      "metadata": {
        "id": "6auNggtqd3hc"
      },
      "execution_count": null,
      "outputs": []
    },
    {
      "cell_type": "code",
      "source": [
        "#Fibonacci nums. (Generator):\n",
        "def fibonacci_generator():\n",
        "  a,b=0,1\n",
        "  while True:\n",
        "     yield b\n",
        "     a,b=b,a+b\n",
        "fib_gen=fibonacci_generator()\n",
        "print(next(fib_gen))\n",
        "print(next(fib_gen))\n",
        "print(next(fib_gen))\n",
        "print(next(fib_gen))"
      ],
      "metadata": {
        "colab": {
          "base_uri": "https://localhost:8080/"
        },
        "id": "cQ0A-uGqoaY6",
        "outputId": "45e94b8e-6ca6-4e85-a663-49f4f9c1bfec"
      },
      "execution_count": 5,
      "outputs": [
        {
          "output_type": "stream",
          "name": "stdout",
          "text": [
            "1\n",
            "1\n",
            "2\n",
            "3\n"
          ]
        }
      ]
    },
    {
      "cell_type": "code",
      "source": [
        "#asal sayilari ureten bir generator\n",
        "def is_prime(n):\n",
        "   if n<=1:\n",
        "     return False\n",
        "   if n<=3:\n",
        "     return True\n",
        "   if n%2==0 or n%3==0:\n",
        "     return False\n",
        "   i=5\n",
        "   while i*i <=n:\n",
        "      if n%i ==0 or n%(i+2) == 0:\n",
        "         return False\n",
        "      i+=6\n",
        "   return True\n",
        "\n",
        "def prime_generator():\n",
        "   num=2\n",
        "   while True:\n",
        "      if is_prime(num):\n",
        "         yield num\n",
        "      num+=1\n",
        "prime_gen=prime_generator()\n",
        "print(next(prime_gen))\n",
        "print(next(prime_gen))\n",
        "print(next(prime_gen))\n"
      ],
      "metadata": {
        "colab": {
          "base_uri": "https://localhost:8080/"
        },
        "id": "-MC5ikOrqUZ5",
        "outputId": "f965f3d0-1c33-4911-ab5b-c50b01bf3120"
      },
      "execution_count": 6,
      "outputs": [
        {
          "output_type": "stream",
          "name": "stdout",
          "text": [
            "2\n",
            "3\n",
            "5\n"
          ]
        }
      ]
    },
    {
      "cell_type": "markdown",
      "source": [
        "# Map Function"
      ],
      "metadata": {
        "id": "eGqDICm2vTO3"
      }
    },
    {
      "cell_type": "markdown",
      "source": [
        "Map Function\n",
        "\n",
        "*   map fonksiyonu, verilen bir işlevi bir iterable(örn bir liste) üzerinde her ögeye uygulayarak sonuçları içeren yeni bir iterable döndürmek için kullanılır. Bu, açık döngğler kullanmadan tüm veri kümesi üzerinde işlem yapmak için güçlü bir araçtır\n",
        "\n"
      ],
      "metadata": {
        "id": "rs204_lws6GS"
      }
    },
    {
      "cell_type": "code",
      "source": [
        "#Example 1: Map with Lambda\n",
        "numbers=[1,2,3,4]\n",
        "squared=map(lambda x:x**2, numbers)\n",
        "\n",
        "print(numbers)\n",
        "print(list(squared))"
      ],
      "metadata": {
        "colab": {
          "base_uri": "https://localhost:8080/"
        },
        "id": "X6uTuBHYrqbr",
        "outputId": "628038a4-0838-41c8-9a4f-7281d63dff59"
      },
      "execution_count": 9,
      "outputs": [
        {
          "output_type": "stream",
          "name": "stdout",
          "text": [
            "[1, 2, 3, 4]\n",
            "[1, 4, 9, 16]\n"
          ]
        }
      ]
    },
    {
      "cell_type": "code",
      "source": [
        "#Example 2: Map with Function\n",
        "def to_upper_case(s):\n",
        "   return s.upper()#Buyuk harfe cevir\n",
        "upper_cased =map(to_upper_case,['hello', 'world'])\n",
        "print(list(upper_cased))"
      ],
      "metadata": {
        "colab": {
          "base_uri": "https://localhost:8080/"
        },
        "id": "bga-wiS1wf4J",
        "outputId": "90e3d220-4278-4e2b-9f74-7041e9d33df0"
      },
      "execution_count": 10,
      "outputs": [
        {
          "output_type": "stream",
          "name": "stdout",
          "text": [
            "['HELLO', 'WORLD']\n"
          ]
        }
      ]
    },
    {
      "cell_type": "code",
      "source": [
        "#Birden fazla işlevi iterable üzerinde uygulama\n",
        "def add(x,y):\n",
        "   return x+y\n",
        "\n",
        "def square(x):\n",
        "   return x*x\n",
        "numbers=[1,2,3,4]\n",
        "result= list(map(lambda x: square(add(x,1)), numbers))\n",
        "print(result)"
      ],
      "metadata": {
        "colab": {
          "base_uri": "https://localhost:8080/"
        },
        "id": "YCX1rBJqxEJD",
        "outputId": "722ac8d0-2ef9-4aea-aafa-d2c5d758427d"
      },
      "execution_count": 11,
      "outputs": [
        {
          "output_type": "stream",
          "name": "stdout",
          "text": [
            "[4, 9, 16, 25]\n"
          ]
        }
      ]
    },
    {
      "cell_type": "code",
      "source": [
        "#Bir nesne metodu kullanarak iterable'ları işleme\n",
        "class Person:\n",
        "   def __init__(self,name,age):\n",
        "      self.name = name\n",
        "      self.age = age\n",
        "   def introduce(self):\n",
        "      return f\"My name is {self.name} and I am {self.age} years old.\"\n",
        "\n",
        "people = [Person(\"Alice\", 25), Person(\"Bob\", 30), Person(\"Charlie\", 28)]\n",
        "\n",
        "introductions =list(map(Person.introduce,people))\n",
        "for intro in introductions:\n",
        "  print(intro)\n"
      ],
      "metadata": {
        "colab": {
          "base_uri": "https://localhost:8080/"
        },
        "id": "bSVIRtEnx9Li",
        "outputId": "7346d62c-ea19-4228-d7e0-2672a71a814c"
      },
      "execution_count": 12,
      "outputs": [
        {
          "output_type": "stream",
          "name": "stdout",
          "text": [
            "My name is Alice and I am 25 years old.\n",
            "My name is Bob and I am 30 years old.\n",
            "My name is Charlie and I am 28 years old.\n"
          ]
        }
      ]
    },
    {
      "cell_type": "markdown",
      "source": [
        "# Lambda Function"
      ],
      "metadata": {
        "id": "2XVkCtbwzU4K"
      }
    },
    {
      "cell_type": "markdown",
      "source": [
        "Lambda fonksiyonu, adı olmayan küçük bir, satır içi fonksiyondur. Genelllikle kısa ve basit işlemlerde kullanılır ve lambda anahtar kelimesi kullanılarak oluşturulur. Hızlı, geçici biri işlev gerektiğinde sıkça kullanılır."
      ],
      "metadata": {
        "id": "FJZQcHCyzewP"
      }
    },
    {
      "cell_type": "code",
      "source": [
        "#Example 1: Simple Lambda\n",
        "double= lambda x:x*2\n",
        "print(double(5))"
      ],
      "metadata": {
        "colab": {
          "base_uri": "https://localhost:8080/"
        },
        "id": "XJvXrErkzyvI",
        "outputId": "08be1dbb-b801-4928-c514-8023af089f1f"
      },
      "execution_count": 13,
      "outputs": [
        {
          "output_type": "stream",
          "name": "stdout",
          "text": [
            "10\n"
          ]
        }
      ]
    },
    {
      "cell_type": "code",
      "source": [
        "#Example 2: Lambda with Filter\n",
        "numbers=[1,2,3,4,5,6,]\n",
        "even_numbers=filter(lambda x: x%2 ==0,numbers)\n",
        "print(list(even_numbers))"
      ],
      "metadata": {
        "colab": {
          "base_uri": "https://localhost:8080/"
        },
        "id": "NapaocG-0Bfh",
        "outputId": "079f2fe9-da3e-460a-c205-cb9cbdd246db"
      },
      "execution_count": 14,
      "outputs": [
        {
          "output_type": "stream",
          "name": "stdout",
          "text": [
            "[2, 4, 6]\n"
          ]
        }
      ]
    },
    {
      "cell_type": "markdown",
      "source": [
        "# Decorator"
      ],
      "metadata": {
        "id": "VKmUIqlS1BaV"
      }
    },
    {
      "cell_type": "markdown",
      "source": [
        "Bir dekoratör, mevcut bir işleve veya yönteme kaynak kodunu değiştirmeden yeni işlevsellik eklemenizi sağlayan bir fonktur. Genellikle günlük tutma, yetkilendirme veya performans izleme gibi görevler için kullanılır. Dekoratörler, bir işlev tanımından önce \"@\" sembolü ile uygulanır"
      ],
      "metadata": {
        "id": "H7jGVs6A1FX_"
      }
    },
    {
      "cell_type": "code",
      "source": [
        "#Example 1: Simple Decorator\n",
        "def my_decorator(func):\n",
        "   def wrapper():\n",
        "      print(\"Before\")\n",
        "      func()\n",
        "      print(\"After\")\n",
        "   return wrapper\n",
        "\n",
        "@my_decorator\n",
        "def say_hello():\n",
        "   print(\"Hello\")\n",
        "\n",
        "say_hello()"
      ],
      "metadata": {
        "colab": {
          "base_uri": "https://localhost:8080/"
        },
        "id": "rw4wlt8X1lyN",
        "outputId": "df434d49-3b4b-4ba0-f9c8-4d0b2fab6d6f"
      },
      "execution_count": 15,
      "outputs": [
        {
          "output_type": "stream",
          "name": "stdout",
          "text": [
            "Before\n",
            "Hello\n",
            "After\n"
          ]
        }
      ]
    }
  ]
}