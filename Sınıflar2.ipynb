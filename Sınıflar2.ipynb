{
  "nbformat": 4,
  "nbformat_minor": 0,
  "metadata": {
    "colab": {
      "provenance": [],
      "authorship_tag": "ABX9TyOVoML8tFmUzCjvVyjA45Ox",
      "include_colab_link": true
    },
    "kernelspec": {
      "name": "python3",
      "display_name": "Python 3"
    },
    "language_info": {
      "name": "python"
    }
  },
  "cells": [
    {
      "cell_type": "markdown",
      "metadata": {
        "id": "view-in-github",
        "colab_type": "text"
      },
      "source": [
        "<a href=\"https://colab.research.google.com/github/zeynep-tkn/PythonProject/blob/main/S%C4%B1n%C4%B1flar2.ipynb\" target=\"_parent\"><img src=\"https://colab.research.google.com/assets/colab-badge.svg\" alt=\"Open In Colab\"/></a>"
      ]
    },
    {
      "cell_type": "markdown",
      "source": [
        "**Self Nedir:**\n",
        " Sınıf nesnesinin kendisidir"
      ],
      "metadata": {
        "id": "KWi8QsKaMF3X"
      }
    },
    {
      "cell_type": "code",
      "source": [
        "#Bir toplantıya katılacak kişileri sınıf ile tanımlayalım\n",
        "class Toplanti_Katilimcisi:\n",
        "   def __init__(self,isim):\n",
        "      self.isim=isim\n",
        "\n",
        "   def tokalas(self,diger):\n",
        "      if self is not diger:\n",
        "        # print(f\"{self=}\")\n",
        "        # print(f\"{diger=}\")\n",
        "          print(f\"{self.isim} ile {diger.isim} tokalasiyor\")\n",
        "      else:\n",
        "         print(f\"{self.isim} kendisi ile tokalaşmya çalıştı\")"
      ],
      "metadata": {
        "id": "S5W9ha4OMHMv"
      },
      "execution_count": 1,
      "outputs": []
    },
    {
      "cell_type": "code",
      "source": [
        "#Katılımcı nesnelerimizi oluşturalım\n",
        "katilimci_1=Toplanti_Katilimcisi(\"Ali\")\n",
        "katilimci_2=Toplanti_Katilimcisi(\"Ahmet\")"
      ],
      "metadata": {
        "id": "h5XMCNOOM8j3"
      },
      "execution_count": 3,
      "outputs": []
    },
    {
      "cell_type": "code",
      "source": [
        "katilimci_1"
      ],
      "metadata": {
        "colab": {
          "base_uri": "https://localhost:8080/"
        },
        "id": "uQcUbzgYNW7H",
        "outputId": "49d6c537-d9ca-438b-e145-17b3384815e9"
      },
      "execution_count": 4,
      "outputs": [
        {
          "output_type": "execute_result",
          "data": {
            "text/plain": [
              "<__main__.Toplanti_Katilimcisi at 0x783afa099600>"
            ]
          },
          "metadata": {},
          "execution_count": 4
        }
      ]
    },
    {
      "cell_type": "code",
      "source": [
        "katilimci_2"
      ],
      "metadata": {
        "colab": {
          "base_uri": "https://localhost:8080/"
        },
        "id": "vFyjgQcMNaiB",
        "outputId": "9b301d99-08aa-44d9-b907-03bccde4c762"
      },
      "execution_count": 5,
      "outputs": [
        {
          "output_type": "execute_result",
          "data": {
            "text/plain": [
              "<__main__.Toplanti_Katilimcisi at 0x783afa09a140>"
            ]
          },
          "metadata": {},
          "execution_count": 5
        }
      ]
    },
    {
      "cell_type": "code",
      "source": [
        "#Katilimcilar birbiri ile etkileşime giriyor\n",
        "katilimci_1.tokalas(katilimci_2)"
      ],
      "metadata": {
        "colab": {
          "base_uri": "https://localhost:8080/"
        },
        "id": "n8UvAIdbNc-y",
        "outputId": "fcd1cc0a-20f6-4a5d-9e75-64905a74bea1"
      },
      "execution_count": 8,
      "outputs": [
        {
          "output_type": "stream",
          "name": "stdout",
          "text": [
            "Ali ile Ahmet tokalasiyor\n"
          ]
        }
      ]
    },
    {
      "cell_type": "code",
      "source": [
        "katilimci_1.tokalas(katilimci_1)"
      ],
      "metadata": {
        "colab": {
          "base_uri": "https://localhost:8080/"
        },
        "id": "MwAc3RTnOwsk",
        "outputId": "cd002f32-ae0c-4b16-e807-1efded80ed3a"
      },
      "execution_count": 9,
      "outputs": [
        {
          "output_type": "stream",
          "name": "stdout",
          "text": [
            "Ali kendisi ile tokalaşmya çalıştı\n"
          ]
        }
      ]
    },
    {
      "cell_type": "code",
      "source": [
        "class Araba:\n",
        "   def __init__(self,marka,model,renk,benzin=0):\n",
        "      self.marka=marka\n",
        "      self.model=model\n",
        "      self.renk=renk\n",
        "      self.benzin=benzin\n",
        "\n",
        "   def tanit(self):\n",
        "     print(f\"Bu görmüş olduğunuz araç, {self.renk} renkli bir {self.marka} {self.model} 'dir\")\n",
        "\n",
        "   def doldur(self,eklenen_miktar):\n",
        "     self.benzin += eklenen_miktar\n",
        "\n",
        "   def boyat(self,yeni_renk):\n",
        "     self.renk =yeni_renk\n",
        "     self.tanit()"
      ],
      "metadata": {
        "id": "w0TZDo4_O1OE"
      },
      "execution_count": 17,
      "outputs": []
    },
    {
      "cell_type": "code",
      "source": [
        "yeni_arabam= Araba(\"Tesla\",\"Model-S\",\"kırmızı\")"
      ],
      "metadata": {
        "id": "bIBxgd7zT7I1"
      },
      "execution_count": 18,
      "outputs": []
    },
    {
      "cell_type": "code",
      "source": [
        "yeni_arabam.tanit()"
      ],
      "metadata": {
        "colab": {
          "base_uri": "https://localhost:8080/"
        },
        "id": "8Yz3RsOnUGuy",
        "outputId": "838f0ff2-fdd0-48ce-8132-8c69f2bfe42a"
      },
      "execution_count": 19,
      "outputs": [
        {
          "output_type": "stream",
          "name": "stdout",
          "text": [
            "Bu görmüş olduğunuz araç, kırmızı renkli bir Tesla Model-S 'dir\n"
          ]
        }
      ]
    },
    {
      "cell_type": "code",
      "source": [
        "yeni_arabam.benzin"
      ],
      "metadata": {
        "colab": {
          "base_uri": "https://localhost:8080/"
        },
        "id": "5PSKMCHQUSiF",
        "outputId": "f0e58f75-fdbf-4958-a7fe-4f098b381c48"
      },
      "execution_count": 20,
      "outputs": [
        {
          "output_type": "execute_result",
          "data": {
            "text/plain": [
              "0"
            ]
          },
          "metadata": {},
          "execution_count": 20
        }
      ]
    },
    {
      "cell_type": "code",
      "source": [
        "yeni_arabam.doldur(13)"
      ],
      "metadata": {
        "id": "5iDjIb_yUVvg"
      },
      "execution_count": 21,
      "outputs": []
    },
    {
      "cell_type": "code",
      "source": [
        "yeni_arabam.benzin"
      ],
      "metadata": {
        "colab": {
          "base_uri": "https://localhost:8080/"
        },
        "id": "rgKK_-TBUap1",
        "outputId": "027a23b1-3040-4a3f-cfa1-712f807ce87f"
      },
      "execution_count": 22,
      "outputs": [
        {
          "output_type": "execute_result",
          "data": {
            "text/plain": [
              "13"
            ]
          },
          "metadata": {},
          "execution_count": 22
        }
      ]
    },
    {
      "cell_type": "code",
      "source": [
        "yeni_arabam.boyat(\"mavi\")"
      ],
      "metadata": {
        "colab": {
          "base_uri": "https://localhost:8080/"
        },
        "id": "wCCDRmalUfwp",
        "outputId": "ad4ebe9f-f100-4087-9b00-731bc2c13472"
      },
      "execution_count": 23,
      "outputs": [
        {
          "output_type": "stream",
          "name": "stdout",
          "text": [
            "Bu görmüş olduğunuz araç, mavi renkli bir Tesla Model-S 'dir\n"
          ]
        }
      ]
    },
    {
      "cell_type": "code",
      "source": [
        "#Sınıf objelerine sonradan degisken eklenebilir\n",
        "class Bilgisayar:\n",
        "    def __init__(self,marka):\n",
        "       self.marka =marka\n",
        "\n",
        "    def virus_girdi(self):\n",
        "       self.viruslu = True\n",
        "\n",
        "    def virusleri_temizle(self):\n",
        "       self.viruslu = False\n",
        "\n",
        "    def raporla_1(self):\n",
        "       if self.viruslu:\n",
        "         print(\"Format atmak lazım\")\n",
        "       else:\n",
        "         print(\"Sapasağlam!\")\n",
        "\n",
        "    def raporla_2(self):\n",
        "       if hasattr(self,\"viruslu\"):\n",
        "         print(\"Format atmak lazım\")\n",
        "       else:\n",
        "         print(\"Sapasağlam!\")"
      ],
      "metadata": {
        "id": "7sLXHHGKU00V"
      },
      "execution_count": 26,
      "outputs": []
    },
    {
      "cell_type": "code",
      "source": [
        "bilgisayarim =Bilgisayar(\"Asus\")"
      ],
      "metadata": {
        "id": "_VHN1ZHIV28T"
      },
      "execution_count": 27,
      "outputs": []
    },
    {
      "cell_type": "code",
      "source": [
        "bilgisayarim.raporla_1()"
      ],
      "metadata": {
        "colab": {
          "base_uri": "https://localhost:8080/",
          "height": 263
        },
        "collapsed": true,
        "id": "18YSV11UWhgX",
        "outputId": "9f6c3873-f659-4ec5-bb95-c45b4c502521"
      },
      "execution_count": 31,
      "outputs": [
        {
          "output_type": "error",
          "ename": "AttributeError",
          "evalue": "'Bilgisayar' object has no attribute 'viruslu'",
          "traceback": [
            "\u001b[0;31m---------------------------------------------------------------------------\u001b[0m",
            "\u001b[0;31mAttributeError\u001b[0m                            Traceback (most recent call last)",
            "\u001b[0;32m<ipython-input-31-87392d892098>\u001b[0m in \u001b[0;36m<cell line: 1>\u001b[0;34m()\u001b[0m\n\u001b[0;32m----> 1\u001b[0;31m \u001b[0mbilgisayarim\u001b[0m\u001b[0;34m.\u001b[0m\u001b[0mraporla_1\u001b[0m\u001b[0;34m(\u001b[0m\u001b[0;34m)\u001b[0m\u001b[0;34m\u001b[0m\u001b[0;34m\u001b[0m\u001b[0m\n\u001b[0m",
            "\u001b[0;32m<ipython-input-26-2482079cebda>\u001b[0m in \u001b[0;36mraporla_1\u001b[0;34m(self)\u001b[0m\n\u001b[1;32m     11\u001b[0m \u001b[0;34m\u001b[0m\u001b[0m\n\u001b[1;32m     12\u001b[0m     \u001b[0;32mdef\u001b[0m \u001b[0mraporla_1\u001b[0m\u001b[0;34m(\u001b[0m\u001b[0mself\u001b[0m\u001b[0;34m)\u001b[0m\u001b[0;34m:\u001b[0m\u001b[0;34m\u001b[0m\u001b[0;34m\u001b[0m\u001b[0m\n\u001b[0;32m---> 13\u001b[0;31m        \u001b[0;32mif\u001b[0m \u001b[0mself\u001b[0m\u001b[0;34m.\u001b[0m\u001b[0mviruslu\u001b[0m\u001b[0;34m:\u001b[0m\u001b[0;34m\u001b[0m\u001b[0;34m\u001b[0m\u001b[0m\n\u001b[0m\u001b[1;32m     14\u001b[0m          \u001b[0mprint\u001b[0m\u001b[0;34m(\u001b[0m\u001b[0;34m\"Format atmak lazım\"\u001b[0m\u001b[0;34m)\u001b[0m\u001b[0;34m\u001b[0m\u001b[0;34m\u001b[0m\u001b[0m\n\u001b[1;32m     15\u001b[0m        \u001b[0;32melse\u001b[0m\u001b[0;34m:\u001b[0m\u001b[0;34m\u001b[0m\u001b[0;34m\u001b[0m\u001b[0m\n",
            "\u001b[0;31mAttributeError\u001b[0m: 'Bilgisayar' object has no attribute 'viruslu'"
          ]
        }
      ]
    },
    {
      "cell_type": "code",
      "source": [
        "bilgisayarim.raporla_2()"
      ],
      "metadata": {
        "colab": {
          "base_uri": "https://localhost:8080/"
        },
        "id": "wAfU9_EaWTHB",
        "outputId": "1425b5ae-a32f-4be6-8350-809e03ee415f"
      },
      "execution_count": 32,
      "outputs": [
        {
          "output_type": "stream",
          "name": "stdout",
          "text": [
            "Sapasağlam!\n"
          ]
        }
      ]
    },
    {
      "cell_type": "markdown",
      "source": [
        "**Kalıtım -Inheretence**\n",
        "*   Bir sınıftan yararlanarak başka bir sınıf oluşturma\n",
        "\n",
        "\n"
      ],
      "metadata": {
        "id": "_UkU-f5AfFUz"
      }
    },
    {
      "cell_type": "code",
      "source": [
        "#super-class\n",
        "class Insan:\n",
        "  def __init__(self,isim,boy):\n",
        "    self.isim=isim\n",
        "    self.boy=boy\n",
        "\n",
        "  def tanit(self):\n",
        "    print(\"Insan sınıfının tanıt metodu başladı\")\n",
        "    print(f\" İsim: {self.isim=}\")\n",
        "    print(f\" Boy: {self.boy=}\")\n",
        "\n",
        "#sub-class\n",
        "class Calisan(Insan):\n",
        "  def __init__(self,isim,boy,maas):\n",
        "    print(\"Çalışan sınıfının üreticisi çalışmaya başladı\")\n",
        "    self.isim=isim\n",
        "    self.boy=boy\n",
        "    self.maas=maas\n",
        "\n",
        "  def maasini_soyle(self):\n",
        "    print(\"Çalışan sınıfının maasini_soyle metodu başladı\")\n",
        "    print(f\"{self.maas=}\")\n",
        "\n",
        "  def ayrintili_tanit(self):\n",
        "    self.tanit()\n",
        "    self.maasini_soyle()"
      ],
      "metadata": {
        "id": "FYsGd6IcfMbc"
      },
      "execution_count": 36,
      "outputs": []
    },
    {
      "cell_type": "code",
      "source": [
        "insan_objesi =Insan(\"Murat Uzun\",170)"
      ],
      "metadata": {
        "id": "MTKM8o7phDmg"
      },
      "execution_count": 37,
      "outputs": []
    },
    {
      "cell_type": "code",
      "source": [
        "insan_objesi.tanit()"
      ],
      "metadata": {
        "colab": {
          "base_uri": "https://localhost:8080/"
        },
        "id": "M-WO4bxqhTkX",
        "outputId": "cf00f5ee-d730-4eb9-daa2-b836561d3d92"
      },
      "execution_count": 38,
      "outputs": [
        {
          "output_type": "stream",
          "name": "stdout",
          "text": [
            "Insan sınıfının tanıt metodu başladı\n",
            " İsim: self.isim='Murat Uzun'\n",
            " Boy: self.boy=170\n"
          ]
        }
      ]
    },
    {
      "cell_type": "code",
      "source": [
        "calisan_objesi=Calisan(\"Bahadır Uzun\",170,5000)"
      ],
      "metadata": {
        "colab": {
          "base_uri": "https://localhost:8080/"
        },
        "id": "UObEYR8GhnOa",
        "outputId": "52449d6c-4d8b-4965-a7b4-1b74e01c7c59"
      },
      "execution_count": 40,
      "outputs": [
        {
          "output_type": "stream",
          "name": "stdout",
          "text": [
            "Çalışan sınıfının üreticisi çalışmaya başladı\n"
          ]
        }
      ]
    },
    {
      "cell_type": "code",
      "source": [
        "calisan_objesi.tanit()"
      ],
      "metadata": {
        "colab": {
          "base_uri": "https://localhost:8080/"
        },
        "id": "iSZeGd26iFC4",
        "outputId": "be6ff90b-9f0a-4b7a-d829-3f7540ed4f7a"
      },
      "execution_count": 42,
      "outputs": [
        {
          "output_type": "stream",
          "name": "stdout",
          "text": [
            "Insan sınıfının tanıt metodu başladı\n",
            " İsim: self.isim='Bahadır Uzun'\n",
            " Boy: self.boy=170\n"
          ]
        }
      ]
    },
    {
      "cell_type": "code",
      "source": [
        "#super() nedir?\n",
        "#kenar uzunlugu hepsine göre degisebilir o yüzden * koyduk\n",
        "class Cokgen:\n",
        "  def __init__(self,kose_sayisi,*kenar_uzunlugu):\n",
        "    print(\"Cokgen sınıfının üreticisi çalışmaya başladı\")\n",
        "    self.kose_sayisi=kose_sayisi\n",
        "\n",
        "    self.kenar_uzunlugu_liste=[]\n",
        "\n",
        "    for k_u in kenar_uzunlugu:\n",
        "      self.kenar_uzunlugu_liste.append(k_u)\n",
        "\n",
        "  def tanit(self):\n",
        "       print(f\"{self.kose_sayisi=}\")\n",
        "       print(f\"{self.kenar_uzunlugu_liste=}\")\n",
        "\n",
        "  def cevre_hesapla(self):\n",
        "       return sum(self.kenar_uzunlugu_liste)\n",
        "\n",
        "class Ucgen(Cokgen):\n",
        "    def __init__(self,kose_1,kose_2,kose_3):\n",
        "       Cokgen.__init__(self,3,kose_1,kose_2,kose_3)\n",
        ""
      ],
      "metadata": {
        "id": "a_owKK_WikpO"
      },
      "execution_count": 53,
      "outputs": []
    },
    {
      "cell_type": "code",
      "source": [
        "ucgen_objesi=Ucgen(3,4,5)"
      ],
      "metadata": {
        "colab": {
          "base_uri": "https://localhost:8080/"
        },
        "id": "Wm5ID5AJkXzB",
        "outputId": "2f928f74-f20b-4771-bd50-00d698a89a21"
      },
      "execution_count": 54,
      "outputs": [
        {
          "output_type": "stream",
          "name": "stdout",
          "text": [
            "Cokgen sınıfının üreticisi çalışmaya başladı\n"
          ]
        }
      ]
    },
    {
      "cell_type": "code",
      "source": [
        "ucgen_objesi.tanit()"
      ],
      "metadata": {
        "colab": {
          "base_uri": "https://localhost:8080/"
        },
        "id": "qmxjXH74kiyU",
        "outputId": "1c09f184-f86b-41eb-8c72-3d72d0086d91"
      },
      "execution_count": 55,
      "outputs": [
        {
          "output_type": "stream",
          "name": "stdout",
          "text": [
            "self.kose_sayisi=3\n",
            "self.kenar_uzunlugu_liste=[3, 4, 5]\n"
          ]
        }
      ]
    },
    {
      "cell_type": "code",
      "source": [
        "class Kare(Cokgen):\n",
        "  def __init__(self,kenar_uzunlugu):\n",
        "    super().__init__(4,kenar_uzunlugu,kenar_uzunlugu,kenar_uzunlugu,kenar_uzunlugu)"
      ],
      "metadata": {
        "id": "13iE4bhJlvI3"
      },
      "execution_count": 56,
      "outputs": []
    },
    {
      "cell_type": "code",
      "source": [
        "kare_objesi=Kare(10)"
      ],
      "metadata": {
        "colab": {
          "base_uri": "https://localhost:8080/"
        },
        "id": "uMyC9t9Ll4Ch",
        "outputId": "1de9bdba-b534-4e65-86a8-da89cda765af"
      },
      "execution_count": 57,
      "outputs": [
        {
          "output_type": "stream",
          "name": "stdout",
          "text": [
            "Cokgen sınıfının üreticisi çalışmaya başladı\n"
          ]
        }
      ]
    },
    {
      "cell_type": "code",
      "source": [
        "kare_objesi.tanit()"
      ],
      "metadata": {
        "colab": {
          "base_uri": "https://localhost:8080/"
        },
        "id": "hpRYDOCBl-SY",
        "outputId": "65f6106b-8bf9-4a58-b433-7f6b35892c80"
      },
      "execution_count": 58,
      "outputs": [
        {
          "output_type": "stream",
          "name": "stdout",
          "text": [
            "self.kose_sayisi=4\n",
            "self.kenar_uzunlugu_liste=[10, 10, 10, 10]\n"
          ]
        }
      ]
    },
    {
      "cell_type": "code",
      "source": [
        "kare_objesi.cevre_hesapla()"
      ],
      "metadata": {
        "colab": {
          "base_uri": "https://localhost:8080/"
        },
        "id": "vNuuVx3KmEvO",
        "outputId": "ed15347c-0df5-49fd-a88e-078d9fa4dfa5"
      },
      "execution_count": 59,
      "outputs": [
        {
          "output_type": "execute_result",
          "data": {
            "text/plain": [
              "40"
            ]
          },
          "metadata": {},
          "execution_count": 59
        }
      ]
    }
  ]
}